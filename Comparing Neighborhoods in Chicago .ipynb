{
    "cells": [
        {
            "cell_type": "markdown",
            "metadata": {
                "collapsed": true
            },
            "source": "## A Comparison of Neighborhoods in Chicago\n\n"
        },
        {
            "cell_type": "markdown",
            "metadata": {},
            "source": "For my capstone project, I plan to compare neighborhoods in Chicago, based on their geographical locations, populations, and the volume/types of venues in each neighboirhood. \n\nMy plan is to see if density population or geographical location, have more of an impact on the types and numbers of venues. Chicago is a very large geographically, but is one of the most segregated cities in the country. \n\nAfter completing this research we will be able to see what neighborhoods pose areas of opporunity for opening new businesses, where the population is underserved by the available number of venues. \n\n"
        },
        {
            "cell_type": "code",
            "execution_count": null,
            "metadata": {},
            "outputs": [],
            "source": ""
        }
    ],
    "metadata": {
        "kernelspec": {
            "display_name": "Python 3.7",
            "language": "python",
            "name": "python3"
        },
        "language_info": {
            "codemirror_mode": {
                "name": "ipython",
                "version": 3
            },
            "file_extension": ".py",
            "mimetype": "text/x-python",
            "name": "python",
            "nbconvert_exporter": "python",
            "pygments_lexer": "ipython3",
            "version": "3.7.10"
        }
    },
    "nbformat": 4,
    "nbformat_minor": 1
}