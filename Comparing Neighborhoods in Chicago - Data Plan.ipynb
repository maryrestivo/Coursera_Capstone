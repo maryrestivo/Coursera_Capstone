{
    "cells": [
        {
            "cell_type": "markdown",
            "metadata": {
                "collapsed": true
            },
            "source": "# The Battle of the Neighborhoods - Business Problem Introduction "
        },
        {
            "cell_type": "markdown",
            "metadata": {},
            "source": "### In order to compare the community areas in Chicago based on their populations, geographical locations, and volume/types of venues I will utilize 3 data sources. \n\nSetting the Stage: The owner of an italian restaurant chain is planning on expanding in Chicago. He is aware that there are already a high number of italian and deep dish restaurants throughout the city, so he wants to ensure that the location(s) he chooses to expand to are not over saturated. The ideal neighborhood would only have a few competitors, but a large enough population to ensure they would have a consistent customer base. \n\n---\nIn order to solve this scenario, I will be bringing in data from a handful of sources. It is important to know that Chicago is made up of a number of community areas, neighborhoods, and zip codes. My analysis will be based off of zip code, as they are the easiest to match with population data. \n\n1. The first piece of data I will be bringing in is a list of zipcodes from Chicago, and the neighborhoods included in those zipcodes. This is being sourced from the Chicago Tribune, a well known and respected local paper. This table will act as the base of our dataframe.\n\n2. The second piece of data I will be bringing is a list of all of the zip codes in Illinois, and their populations. This data is up to date as of the 2020 census. Obviously, we do not need population data for all of Illinois, so we will only be taking the information for zip codes included in our first dataframe. \n\n3. Now that we have zip codes, neighborhoods, and populations - we must get longitude and latitude data geolocator. This data will enable us to be able to pull venue information from Foursquare.\n\n4. Lastly, we will be using information pulled from the foursquare website. Using the coordinates for our Chicago neighborhoods, we will be able to get all relevant data for venues in their respective zip codes. \n\nWe will be able to use a combination of all of these data sources to allow us to see what neighborhoods / zip codes will be the best places of opportunity for the restaurant chain to expand. \n"
        },
        {
            "cell_type": "code",
            "execution_count": null,
            "metadata": {},
            "outputs": [],
            "source": ""
        }
    ],
    "metadata": {
        "kernelspec": {
            "display_name": "Python 3.7",
            "language": "python",
            "name": "python3"
        },
        "language_info": {
            "codemirror_mode": {
                "name": "ipython",
                "version": 3
            },
            "file_extension": ".py",
            "mimetype": "text/x-python",
            "name": "python",
            "nbconvert_exporter": "python",
            "pygments_lexer": "ipython3",
            "version": "3.7.10"
        }
    },
    "nbformat": 4,
    "nbformat_minor": 1
}